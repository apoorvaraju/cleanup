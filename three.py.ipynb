{
 "cells": [
  {
   "cell_type": "code",
   "execution_count": 66,
   "metadata": {},
   "outputs": [],
   "source": [
    "import pandas as pd\n",
    "import numpy as np\n",
    "\n",
    "df = pd.read_csv('data/3cslc.csv')\n",
    "clean_names_set = set(df['cleansed end customer name'])\n"
   ]
  },
  {
   "cell_type": "code",
   "execution_count": 72,
   "metadata": {},
   "outputs": [
    {
     "name": "stdout",
     "output_type": "stream",
     "text": [
      "                clean_name\n",
      "0                      NaN\n",
      "1  karl schmidt unisia inc\n",
      "2       voice teleservices\n",
      "3        american standard\n",
      "4         senior lifestyle\n"
     ]
    }
   ],
   "source": [
    "# print(len(clean_names_set))\n",
    "if None in clean_names_set:\n",
    "    print('removed blank')\n",
    "    clean_names_set.discard('')\n",
    "cnlist = list(clean_names_set)\n",
    "odf = pd.DataFrame(cnlist, columns=['clean_name'])\n",
    "# print(type(odf.iloc[0][0])\n",
    "# if odf.iloc[0][0] is np.nan:\n",
    "#     odf = odf.drop(odf.index[0])\n",
    "print(odf.head())"
   ]
  },
  {
   "cell_type": "code",
   "execution_count": null,
   "metadata": {},
   "outputs": [],
   "source": []
  }
 ],
 "metadata": {
  "kernelspec": {
   "display_name": "Python [conda env:anaconda3]",
   "language": "python",
   "name": "conda-env-anaconda3-py"
  },
  "language_info": {
   "codemirror_mode": {
    "name": "ipython",
    "version": 3
   },
   "file_extension": ".py",
   "mimetype": "text/x-python",
   "name": "python",
   "nbconvert_exporter": "python",
   "pygments_lexer": "ipython3",
   "version": "3.5.5"
  }
 },
 "nbformat": 4,
 "nbformat_minor": 2
}
